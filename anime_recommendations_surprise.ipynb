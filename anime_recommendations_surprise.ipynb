{
 "cells": [
  {
   "cell_type": "code",
   "execution_count": 1,
   "metadata": {},
   "outputs": [],
   "source": [
    "# pip install scikit-surprise\n",
    "# In the Windows environment, it is necessary to install the 'Desktop development with C++' workload of the Visual Studio in advance.\n",
    "from surprise import Reader, Dataset, KNNBaseline, SVD, NMF, SlopeOne, CoClustering\n",
    "from surprise.model_selection import KFold, cross_validate\n",
    "import pandas as pd\n",
    "import numpy as np"
   ]
  },
  {
   "cell_type": "markdown",
   "metadata": {},
   "source": [
    "## 1. 데이터 로딩 / データのロード"
   ]
  },
  {
   "cell_type": "markdown",
   "metadata": {},
   "source": [
    "- Excludes unrated data (rating=-1)."
   ]
  },
  {
   "cell_type": "code",
   "execution_count": 2,
   "metadata": {},
   "outputs": [],
   "source": [
    "anime_df = pd.read_csv(\"anime.csv\").sort_values(by=\"anime_id\").reset_index(drop=True)\n",
    "ratings_df = pd.read_csv(\"rating.csv\")\n",
    "ratings_df = ratings_df.loc[ratings_df[\"rating\"] != -1, :]"
   ]
  },
  {
   "cell_type": "markdown",
   "metadata": {},
   "source": [
    "- If load_from_df() is used, only the rating_scale parameter is required.\n",
    "- https://surprise.readthedocs.io/en/stable/dataset.html#surprise.dataset.Dataset.load_from_df"
   ]
  },
  {
   "cell_type": "code",
   "execution_count": 3,
   "metadata": {},
   "outputs": [],
   "source": [
    "reader = Reader(rating_scale=(1, 10))\n",
    "dataset = Dataset.load_from_df(ratings_df, reader)"
   ]
  },
  {
   "cell_type": "markdown",
   "metadata": {},
   "source": [
    "- The build_full_trainset() means that the entire data is used as training data.\n",
    "- https://surprise.readthedocs.io/en/stable/dataset.html#surprise.dataset.DatasetAutoFolds.build_full_trainset"
   ]
  },
  {
   "cell_type": "code",
   "execution_count": 4,
   "metadata": {},
   "outputs": [],
   "source": [
    "trainset = dataset.build_full_trainset()"
   ]
  },
  {
   "cell_type": "markdown",
   "metadata": {},
   "source": [
    "## 2. 아이템 기반 추천 / アイテムベースレコメンド"
   ]
  },
  {
   "cell_type": "markdown",
   "metadata": {},
   "source": [
    "### Fit a model"
   ]
  },
  {
   "cell_type": "markdown",
   "metadata": {},
   "source": [
    "- Use simple knn algorithm.\n",
    "- https://surprise.readthedocs.io/en/stable/knn_inspired.html#pred-package-knn-inpired\n",
    "- Specifying the user_based as false will result in item-based recommendation.\n",
    "- Use the \"pearson_baseline\" similarity measure is recommended.\n",
    "- https://surprise.readthedocs.io/en/stable/knn_inspired.html#surprise.prediction_algorithms.knns.KNNBaseline"
   ]
  },
  {
   "cell_type": "code",
   "execution_count": 5,
   "metadata": {},
   "outputs": [
    {
     "name": "stdout",
     "output_type": "stream",
     "text": [
      "Estimating biases using als...\n",
      "Computing the pearson_baseline similarity matrix...\n",
      "Done computing similarity matrix.\n"
     ]
    },
    {
     "data": {
      "text/plain": [
       "<surprise.prediction_algorithms.knns.KNNBaseline at 0x1ca4c31f588>"
      ]
     },
     "execution_count": 5,
     "metadata": {},
     "output_type": "execute_result"
    }
   ],
   "source": [
    "# sim_options = {\"name\": \"cosine\", \"user_based\": False}\n",
    "sim_options = {\"name\": \"pearson_baseline\", \"min_support\": 5, \"user_based\": False}\n",
    "model = KNNBaseline(k=40, sim_options=sim_options)\n",
    "model.fit(trainset)"
   ]
  },
  {
   "cell_type": "markdown",
   "metadata": {},
   "source": [
    "- Similarities of item-item are being calculated."
   ]
  },
  {
   "cell_type": "code",
   "execution_count": 6,
   "metadata": {},
   "outputs": [
    {
     "data": {
      "text/plain": [
       "9927"
      ]
     },
     "execution_count": 6,
     "metadata": {},
     "output_type": "execute_result"
    }
   ],
   "source": [
    "len(ratings_df[\"anime_id\"].unique())"
   ]
  },
  {
   "cell_type": "code",
   "execution_count": 7,
   "metadata": {},
   "outputs": [
    {
     "data": {
      "text/plain": [
       "(9927, 9927)"
      ]
     },
     "execution_count": 7,
     "metadata": {},
     "output_type": "execute_result"
    }
   ],
   "source": [
    "model.sim.shape"
   ]
  },
  {
   "cell_type": "markdown",
   "metadata": {},
   "source": [
    "### Recommend animations similar to the animation specified"
   ]
  },
  {
   "cell_type": "markdown",
   "metadata": {},
   "source": [
    "- If you want to know only IDs, you may use get_neighbors().\n",
    "- Since methods use an ID system called the inner id, it is necessary to convert the raw id (=anime_id) to the inner id.\n",
    "- In addition, it is necessary to return the inner id to the raw id in order to display the recommended results.\n",
    "- https://surprise.readthedocs.io/en/stable/FAQ.html#raw-inner-note\n",
    "- It is useless to recommend unpopular animations, so set the threshold for the members."
   ]
  },
  {
   "cell_type": "code",
   "execution_count": 8,
   "metadata": {},
   "outputs": [],
   "source": [
    "def item_based_knn(anime_df, model, anime_name, top_n=10, members_threshold=10000):\n",
    "    anime_id = anime_df.loc[anime_df[\"name\"] == anime_name, \"anime_id\"].values[0]\n",
    "    anime_inner_id = model.trainset.to_inner_iid(anime_id)\n",
    "    \n",
    "    sim = model.sim[anime_inner_id]\n",
    "    sim_inner_id = sim.argsort()[::-1]\n",
    "    \n",
    "    rec_anime_names = []\n",
    "    rec_anime_scores = []\n",
    "    count = 0\n",
    "    for idx in sim_inner_id:\n",
    "        raw_id = model.trainset.to_raw_iid(idx)\n",
    "        data = anime_df.loc[anime_df[\"anime_id\"] == raw_id, :]\n",
    "        if (anime_inner_id != idx) and (~np.isnan(sim[idx])) and (data[\"members\"].values[0] >= members_threshold):\n",
    "            rec_anime_names.append(data[\"name\"].values[0])\n",
    "            rec_anime_scores.append(sim[idx])\n",
    "            count += 1\n",
    "        if count >= top_n:\n",
    "            break\n",
    "    result = pd.DataFrame({\"anime_name\": rec_anime_names, \"similarity\": rec_anime_scores})\n",
    "    \n",
    "    return result"
   ]
  },
  {
   "cell_type": "markdown",
   "metadata": {},
   "source": [
    "- As a result of entering the 「SLAM DUNK」, sports animations such as 「はじめの一歩」 were recommended."
   ]
  },
  {
   "cell_type": "code",
   "execution_count": 9,
   "metadata": {},
   "outputs": [
    {
     "data": {
      "text/html": [
       "<div>\n",
       "<style scoped>\n",
       "    .dataframe tbody tr th:only-of-type {\n",
       "        vertical-align: middle;\n",
       "    }\n",
       "\n",
       "    .dataframe tbody tr th {\n",
       "        vertical-align: top;\n",
       "    }\n",
       "\n",
       "    .dataframe thead th {\n",
       "        text-align: right;\n",
       "    }\n",
       "</style>\n",
       "<table border=\"1\" class=\"dataframe\">\n",
       "  <thead>\n",
       "    <tr style=\"text-align: right;\">\n",
       "      <th></th>\n",
       "      <th>anime_name</th>\n",
       "      <th>similarity</th>\n",
       "    </tr>\n",
       "  </thead>\n",
       "  <tbody>\n",
       "    <tr>\n",
       "      <th>0</th>\n",
       "      <td>Hajime no Ippo</td>\n",
       "      <td>0.290061</td>\n",
       "    </tr>\n",
       "    <tr>\n",
       "      <th>1</th>\n",
       "      <td>Hunter x Hunter</td>\n",
       "      <td>0.258532</td>\n",
       "    </tr>\n",
       "    <tr>\n",
       "      <th>2</th>\n",
       "      <td>Initial D First Stage</td>\n",
       "      <td>0.253423</td>\n",
       "    </tr>\n",
       "    <tr>\n",
       "      <th>3</th>\n",
       "      <td>Monster</td>\n",
       "      <td>0.242074</td>\n",
       "    </tr>\n",
       "    <tr>\n",
       "      <th>4</th>\n",
       "      <td>Gintama</td>\n",
       "      <td>0.228410</td>\n",
       "    </tr>\n",
       "    <tr>\n",
       "      <th>5</th>\n",
       "      <td>Yuu☆Yuu☆Hakusho</td>\n",
       "      <td>0.226722</td>\n",
       "    </tr>\n",
       "    <tr>\n",
       "      <th>6</th>\n",
       "      <td>Initial D Fourth Stage</td>\n",
       "      <td>0.223575</td>\n",
       "    </tr>\n",
       "    <tr>\n",
       "      <th>7</th>\n",
       "      <td>Shonan Junai Gumi!</td>\n",
       "      <td>0.219782</td>\n",
       "    </tr>\n",
       "    <tr>\n",
       "      <th>8</th>\n",
       "      <td>Berserk</td>\n",
       "      <td>0.218339</td>\n",
       "    </tr>\n",
       "    <tr>\n",
       "      <th>9</th>\n",
       "      <td>Initial D Second Stage</td>\n",
       "      <td>0.208931</td>\n",
       "    </tr>\n",
       "  </tbody>\n",
       "</table>\n",
       "</div>"
      ],
      "text/plain": [
       "               anime_name  similarity\n",
       "0          Hajime no Ippo    0.290061\n",
       "1         Hunter x Hunter    0.258532\n",
       "2   Initial D First Stage    0.253423\n",
       "3                 Monster    0.242074\n",
       "4                 Gintama    0.228410\n",
       "5         Yuu☆Yuu☆Hakusho    0.226722\n",
       "6  Initial D Fourth Stage    0.223575\n",
       "7      Shonan Junai Gumi!    0.219782\n",
       "8                 Berserk    0.218339\n",
       "9  Initial D Second Stage    0.208931"
      ]
     },
     "execution_count": 9,
     "metadata": {},
     "output_type": "execute_result"
    }
   ],
   "source": [
    "item_based_knn(anime_df, model, \"Slam Dunk\")"
   ]
  },
  {
   "cell_type": "markdown",
   "metadata": {},
   "source": [
    "- For 「けいおん!」, the same series was ranked high."
   ]
  },
  {
   "cell_type": "code",
   "execution_count": 10,
   "metadata": {},
   "outputs": [
    {
     "data": {
      "text/html": [
       "<div>\n",
       "<style scoped>\n",
       "    .dataframe tbody tr th:only-of-type {\n",
       "        vertical-align: middle;\n",
       "    }\n",
       "\n",
       "    .dataframe tbody tr th {\n",
       "        vertical-align: top;\n",
       "    }\n",
       "\n",
       "    .dataframe thead th {\n",
       "        text-align: right;\n",
       "    }\n",
       "</style>\n",
       "<table border=\"1\" class=\"dataframe\">\n",
       "  <thead>\n",
       "    <tr style=\"text-align: right;\">\n",
       "      <th></th>\n",
       "      <th>anime_name</th>\n",
       "      <th>similarity</th>\n",
       "    </tr>\n",
       "  </thead>\n",
       "  <tbody>\n",
       "    <tr>\n",
       "      <th>0</th>\n",
       "      <td>K-On!!</td>\n",
       "      <td>0.722588</td>\n",
       "    </tr>\n",
       "    <tr>\n",
       "      <th>1</th>\n",
       "      <td>K-On!: Live House!</td>\n",
       "      <td>0.591782</td>\n",
       "    </tr>\n",
       "    <tr>\n",
       "      <th>2</th>\n",
       "      <td>K-On! Movie</td>\n",
       "      <td>0.504559</td>\n",
       "    </tr>\n",
       "    <tr>\n",
       "      <th>3</th>\n",
       "      <td>K-On!!: Keikaku!</td>\n",
       "      <td>0.484685</td>\n",
       "    </tr>\n",
       "    <tr>\n",
       "      <th>4</th>\n",
       "      <td>K-On!: Ura-On!</td>\n",
       "      <td>0.236541</td>\n",
       "    </tr>\n",
       "    <tr>\n",
       "      <th>5</th>\n",
       "      <td>Lucky☆Star</td>\n",
       "      <td>0.236119</td>\n",
       "    </tr>\n",
       "    <tr>\n",
       "      <th>6</th>\n",
       "      <td>A-Channel</td>\n",
       "      <td>0.210934</td>\n",
       "    </tr>\n",
       "    <tr>\n",
       "      <th>7</th>\n",
       "      <td>Shinryaku! Ika Musume</td>\n",
       "      <td>0.190845</td>\n",
       "    </tr>\n",
       "    <tr>\n",
       "      <th>8</th>\n",
       "      <td>Lucky☆Star: Original na Visual to Animation</td>\n",
       "      <td>0.186191</td>\n",
       "    </tr>\n",
       "    <tr>\n",
       "      <th>9</th>\n",
       "      <td>Kanamemo</td>\n",
       "      <td>0.171858</td>\n",
       "    </tr>\n",
       "  </tbody>\n",
       "</table>\n",
       "</div>"
      ],
      "text/plain": [
       "                                    anime_name  similarity\n",
       "0                                       K-On!!    0.722588\n",
       "1                           K-On!: Live House!    0.591782\n",
       "2                                  K-On! Movie    0.504559\n",
       "3                             K-On!!: Keikaku!    0.484685\n",
       "4                               K-On!: Ura-On!    0.236541\n",
       "5                                   Lucky☆Star    0.236119\n",
       "6                                    A-Channel    0.210934\n",
       "7                        Shinryaku! Ika Musume    0.190845\n",
       "8  Lucky☆Star: Original na Visual to Animation    0.186191\n",
       "9                                     Kanamemo    0.171858"
      ]
     },
     "execution_count": 10,
     "metadata": {},
     "output_type": "execute_result"
    }
   ],
   "source": [
    "item_based_knn(anime_df, model, \"K-On!\")"
   ]
  },
  {
   "cell_type": "markdown",
   "metadata": {},
   "source": [
    "## 3. 사용자 기반 추천 / ユーザーベースレコメンド"
   ]
  },
  {
   "cell_type": "markdown",
   "metadata": {},
   "source": [
    "### Fit a model"
   ]
  },
  {
   "cell_type": "markdown",
   "metadata": {},
   "source": [
    "- This time, let's try SVD (Singular Value Decompositions).\n",
    "- https://surprise.readthedocs.io/en/stable/matrix_factorization.html#surprise.prediction_algorithms.matrix_factorization.SVD"
   ]
  },
  {
   "cell_type": "code",
   "execution_count": 4,
   "metadata": {},
   "outputs": [
    {
     "data": {
      "text/plain": [
       "<surprise.prediction_algorithms.matrix_factorization.SVD at 0x1efd5a990f0>"
      ]
     },
     "execution_count": 4,
     "metadata": {},
     "output_type": "execute_result"
    }
   ],
   "source": [
    "model = SVD(random_state=0)\n",
    "model.fit(trainset)"
   ]
  },
  {
   "cell_type": "markdown",
   "metadata": {},
   "source": [
    "### Extract animations not rated by the user"
   ]
  },
  {
   "cell_type": "markdown",
   "metadata": {},
   "source": [
    "- Exclude animations rated by users from the full list of animations."
   ]
  },
  {
   "cell_type": "code",
   "execution_count": 5,
   "metadata": {},
   "outputs": [
    {
     "data": {
      "text/plain": [
       "array([    1,     5,     6, ..., 34349, 34367, 34475], dtype=int64)"
      ]
     },
     "execution_count": 5,
     "metadata": {},
     "output_type": "execute_result"
    }
   ],
   "source": [
    "user_id = 12\n",
    "anime_ids = ratings_df[\"anime_id\"].unique()\n",
    "rated_by_user = ratings_df.loc[ratings_df[\"user_id\"] == user_id, \"anime_id\"]\n",
    "not_rated_by_user = np.setdiff1d(anime_ids, rated_by_user)\n",
    "not_rated_by_user"
   ]
  },
  {
   "cell_type": "markdown",
   "metadata": {},
   "source": [
    "### Construct a test set to predict the rating"
   ]
  },
  {
   "cell_type": "markdown",
   "metadata": {},
   "source": [
    "- For example, for user_id=12 (uid), the rating to anime_id=1 (iid) is predicted to be 9.4 (est).\n",
    "- The r_ui is the value set when creating the test set.\n",
    "- データをtrainsetとtestsetを分けた場合は、予測精度を測定するために使える"
   ]
  },
  {
   "cell_type": "code",
   "execution_count": 6,
   "metadata": {},
   "outputs": [
    {
     "data": {
      "text/plain": [
       "Prediction(uid=12, iid=1, r_ui=10, est=9.425257830181703, details={'was_impossible': False})"
      ]
     },
     "execution_count": 6,
     "metadata": {},
     "output_type": "execute_result"
    }
   ],
   "source": [
    "# All ratings in the testset have been set to 10, but are not used and have no effect.\n",
    "testset = [[user_id, anime_id, 10] for anime_id in not_rated_by_user]\n",
    "predictions = model.test(testset)\n",
    "predictions[0]"
   ]
  },
  {
   "cell_type": "markdown",
   "metadata": {},
   "source": [
    "### Recommend animations that the specified user has never rated"
   ]
  },
  {
   "cell_type": "markdown",
   "metadata": {},
   "source": [
    "- Recommend animations in order of high predicted rating."
   ]
  },
  {
   "cell_type": "code",
   "execution_count": 7,
   "metadata": {},
   "outputs": [],
   "source": [
    "def user_based_recommendation(anime_df, ratings_df, model, user_id, top_n=10, members_threshold=10000):\n",
    "    anime_ids = ratings_df[\"anime_id\"].unique()\n",
    "    anime_ids = np.setdiff1d(anime_ids, anime_df.loc[anime_df[\"members\"] < members_threshold, \"anime_id\"])\n",
    "    rated_by_user = ratings_df.loc[ratings_df[\"user_id\"] == user_id, \"anime_id\"]\n",
    "    not_rated_by_user = np.setdiff1d(anime_ids, rated_by_user)\n",
    "    \n",
    "    testset = [[user_id, anime_id, 10] for anime_id in not_rated_by_user]\n",
    "    predictions = model.test(testset)\n",
    "    \n",
    "    rec_anime_ids = []\n",
    "    rec_anime_ratings = []\n",
    "    for pred in predictions:\n",
    "        rec_anime_ids.append(pred[1])\n",
    "        rec_anime_ratings.append(pred[3])\n",
    "    result = pd.DataFrame({\"anime_id\": rec_anime_ids, \"rating_prediction\": rec_anime_ratings})\n",
    "    result = pd.merge(result, anime_df, on=\"anime_id\")[[\"name\", \"rating_prediction\"]]\n",
    "    result = result.sort_values(by=\"rating_prediction\", ascending=False)[:top_n]\n",
    "    \n",
    "    return result"
   ]
  },
  {
   "cell_type": "markdown",
   "metadata": {},
   "source": [
    "- Recommend user_id=12.\n",
    "- First, let's check out the animations that the user rated highly."
   ]
  },
  {
   "cell_type": "code",
   "execution_count": 8,
   "metadata": {},
   "outputs": [],
   "source": [
    "def rated_by_user(anime_df, ratings_df, user_id):\n",
    "    result = ratings_df.loc[ratings_df[\"user_id\"] == user_id, [\"anime_id\", \"rating\"]]\n",
    "    result = result.groupby(\"anime_id\").mean().reset_index()\n",
    "    result = pd.merge(result, anime_df[[\"anime_id\", \"name\"]], on=\"anime_id\")[[\"name\", \"rating\"]]\n",
    "    result = result.sort_values(by=\"rating\", ascending=False)\n",
    "    return result"
   ]
  },
  {
   "cell_type": "code",
   "execution_count": 9,
   "metadata": {},
   "outputs": [
    {
     "data": {
      "text/html": [
       "<div>\n",
       "<style scoped>\n",
       "    .dataframe tbody tr th:only-of-type {\n",
       "        vertical-align: middle;\n",
       "    }\n",
       "\n",
       "    .dataframe tbody tr th {\n",
       "        vertical-align: top;\n",
       "    }\n",
       "\n",
       "    .dataframe thead th {\n",
       "        text-align: right;\n",
       "    }\n",
       "</style>\n",
       "<table border=\"1\" class=\"dataframe\">\n",
       "  <thead>\n",
       "    <tr style=\"text-align: right;\">\n",
       "      <th></th>\n",
       "      <th>name</th>\n",
       "      <th>rating</th>\n",
       "    </tr>\n",
       "  </thead>\n",
       "  <tbody>\n",
       "    <tr>\n",
       "      <th>11</th>\n",
       "      <td>Code Geass: Hangyaku no Lelouch R2</td>\n",
       "      <td>10</td>\n",
       "    </tr>\n",
       "    <tr>\n",
       "      <th>7</th>\n",
       "      <td>Death Note</td>\n",
       "      <td>10</td>\n",
       "    </tr>\n",
       "    <tr>\n",
       "      <th>19</th>\n",
       "      <td>Steins;Gate</td>\n",
       "      <td>10</td>\n",
       "    </tr>\n",
       "    <tr>\n",
       "      <th>9</th>\n",
       "      <td>Code Geass: Hangyaku no Lelouch</td>\n",
       "      <td>10</td>\n",
       "    </tr>\n",
       "    <tr>\n",
       "      <th>21</th>\n",
       "      <td>Shingeki no Kyojin</td>\n",
       "      <td>10</td>\n",
       "    </tr>\n",
       "  </tbody>\n",
       "</table>\n",
       "</div>"
      ],
      "text/plain": [
       "                                  name  rating\n",
       "11  Code Geass: Hangyaku no Lelouch R2      10\n",
       "7                           Death Note      10\n",
       "19                         Steins;Gate      10\n",
       "9      Code Geass: Hangyaku no Lelouch      10\n",
       "21                  Shingeki no Kyojin      10"
      ]
     },
     "execution_count": 9,
     "metadata": {},
     "output_type": "execute_result"
    }
   ],
   "source": [
    "rated_by_user(anime_df, ratings_df, user_id=12).head()"
   ]
  },
  {
   "cell_type": "markdown",
   "metadata": {},
   "source": [
    "- Many 「銀魂」 series have been recommended, but the reason is unclear."
   ]
  },
  {
   "cell_type": "code",
   "execution_count": 10,
   "metadata": {},
   "outputs": [
    {
     "data": {
      "text/html": [
       "<div>\n",
       "<style scoped>\n",
       "    .dataframe tbody tr th:only-of-type {\n",
       "        vertical-align: middle;\n",
       "    }\n",
       "\n",
       "    .dataframe tbody tr th {\n",
       "        vertical-align: top;\n",
       "    }\n",
       "\n",
       "    .dataframe thead th {\n",
       "        text-align: right;\n",
       "    }\n",
       "</style>\n",
       "<table border=\"1\" class=\"dataframe\">\n",
       "  <thead>\n",
       "    <tr style=\"text-align: right;\">\n",
       "      <th></th>\n",
       "      <th>name</th>\n",
       "      <th>rating_prediction</th>\n",
       "    </tr>\n",
       "  </thead>\n",
       "  <tbody>\n",
       "    <tr>\n",
       "      <th>484</th>\n",
       "      <td>Ginga Eiyuu Densetsu</td>\n",
       "      <td>10.000000</td>\n",
       "    </tr>\n",
       "    <tr>\n",
       "      <th>2599</th>\n",
       "      <td>Gintama°</td>\n",
       "      <td>10.000000</td>\n",
       "    </tr>\n",
       "    <tr>\n",
       "      <th>548</th>\n",
       "      <td>Gintama</td>\n",
       "      <td>9.909467</td>\n",
       "    </tr>\n",
       "    <tr>\n",
       "      <th>2397</th>\n",
       "      <td>Shigatsu wa Kimi no Uso</td>\n",
       "      <td>9.894069</td>\n",
       "    </tr>\n",
       "    <tr>\n",
       "      <th>2015</th>\n",
       "      <td>Gintama&amp;#039;: Enchousen</td>\n",
       "      <td>9.862311</td>\n",
       "    </tr>\n",
       "    <tr>\n",
       "      <th>1757</th>\n",
       "      <td>Hunter x Hunter (2011)</td>\n",
       "      <td>9.855054</td>\n",
       "    </tr>\n",
       "    <tr>\n",
       "      <th>2802</th>\n",
       "      <td>Kimi no Na wa.</td>\n",
       "      <td>9.835394</td>\n",
       "    </tr>\n",
       "    <tr>\n",
       "      <th>1616</th>\n",
       "      <td>Gintama&amp;#039;</td>\n",
       "      <td>9.834163</td>\n",
       "    </tr>\n",
       "    <tr>\n",
       "      <th>195</th>\n",
       "      <td>Hajime no Ippo</td>\n",
       "      <td>9.792984</td>\n",
       "    </tr>\n",
       "    <tr>\n",
       "      <th>21</th>\n",
       "      <td>Rurouni Kenshin: Meiji Kenkaku Romantan - Tsui...</td>\n",
       "      <td>9.790124</td>\n",
       "    </tr>\n",
       "  </tbody>\n",
       "</table>\n",
       "</div>"
      ],
      "text/plain": [
       "                                                   name  rating_prediction\n",
       "484                                Ginga Eiyuu Densetsu          10.000000\n",
       "2599                                           Gintama°          10.000000\n",
       "548                                             Gintama           9.909467\n",
       "2397                            Shigatsu wa Kimi no Uso           9.894069\n",
       "2015                           Gintama&#039;: Enchousen           9.862311\n",
       "1757                             Hunter x Hunter (2011)           9.855054\n",
       "2802                                     Kimi no Na wa.           9.835394\n",
       "1616                                      Gintama&#039;           9.834163\n",
       "195                                      Hajime no Ippo           9.792984\n",
       "21    Rurouni Kenshin: Meiji Kenkaku Romantan - Tsui...           9.790124"
      ]
     },
     "execution_count": 10,
     "metadata": {},
     "output_type": "execute_result"
    }
   ],
   "source": [
    "user_based_recommendation(anime_df, ratings_df, model, user_id=12)"
   ]
  },
  {
   "cell_type": "markdown",
   "metadata": {},
   "source": [
    "## 4. (부록) 모델간 비교 / （おまけ）モデルの比較"
   ]
  },
  {
   "cell_type": "markdown",
   "metadata": {},
   "source": [
    "- Compare the prediction accuracy of the rating by dividing the data into training set and testing set.\n",
    "- The n_splits is specified as 2 because processing takes too long on a local PC."
   ]
  },
  {
   "cell_type": "code",
   "execution_count": 9,
   "metadata": {},
   "outputs": [],
   "source": [
    "kf = KFold(n_splits=2, random_state=0)"
   ]
  },
  {
   "cell_type": "code",
   "execution_count": 6,
   "metadata": {},
   "outputs": [
    {
     "data": {
      "text/plain": [
       "{'test_rmse': array([1.22741366, 1.2335489 ]),\n",
       " 'fit_time': (97.49518871307373, 99.2642011642456),\n",
       " 'test_time': (48.79941368103027, 48.67022490501404)}"
      ]
     },
     "execution_count": 6,
     "metadata": {},
     "output_type": "execute_result"
    }
   ],
   "source": [
    "out = cross_validate(CoClustering(), dataset, measures=[\"RMSE\"], cv=kf, verbose=False)\n",
    "out"
   ]
  },
  {
   "cell_type": "code",
   "execution_count": 7,
   "metadata": {},
   "outputs": [
    {
     "data": {
      "text/plain": [
       "test_rmse         1.23048\n",
       "fit_time          98.3797\n",
       "test_time         48.7348\n",
       "algorithm    CoClustering\n",
       "dtype: object"
      ]
     },
     "execution_count": 7,
     "metadata": {},
     "output_type": "execute_result"
    }
   ],
   "source": [
    "df = pd.DataFrame.from_dict(out).mean(axis=0)\n",
    "df = df.append(pd.Series(\"CoClustering\", index=[\"algorithm\"]))\n",
    "df"
   ]
  },
  {
   "cell_type": "code",
   "execution_count": 10,
   "metadata": {},
   "outputs": [
    {
     "data": {
      "text/html": [
       "<div>\n",
       "<style scoped>\n",
       "    .dataframe tbody tr th:only-of-type {\n",
       "        vertical-align: middle;\n",
       "    }\n",
       "\n",
       "    .dataframe tbody tr th {\n",
       "        vertical-align: top;\n",
       "    }\n",
       "\n",
       "    .dataframe thead th {\n",
       "        text-align: right;\n",
       "    }\n",
       "</style>\n",
       "<table border=\"1\" class=\"dataframe\">\n",
       "  <thead>\n",
       "    <tr style=\"text-align: right;\">\n",
       "      <th></th>\n",
       "      <th>test_rmse</th>\n",
       "      <th>fit_time</th>\n",
       "      <th>test_time</th>\n",
       "    </tr>\n",
       "    <tr>\n",
       "      <th>algorithm</th>\n",
       "      <th></th>\n",
       "      <th></th>\n",
       "      <th></th>\n",
       "    </tr>\n",
       "  </thead>\n",
       "  <tbody>\n",
       "    <tr>\n",
       "      <th>SVD</th>\n",
       "      <td>1.183367</td>\n",
       "      <td>174.656221</td>\n",
       "      <td>53.847728</td>\n",
       "    </tr>\n",
       "    <tr>\n",
       "      <th>SlopeOne</th>\n",
       "      <td>1.203926</td>\n",
       "      <td>38.611949</td>\n",
       "      <td>934.643517</td>\n",
       "    </tr>\n",
       "    <tr>\n",
       "      <th>CoClustering</th>\n",
       "      <td>1.219341</td>\n",
       "      <td>102.943714</td>\n",
       "      <td>413.169630</td>\n",
       "    </tr>\n",
       "    <tr>\n",
       "      <th>NMF</th>\n",
       "      <td>2.227855</td>\n",
       "      <td>194.289427</td>\n",
       "      <td>93.691718</td>\n",
       "    </tr>\n",
       "  </tbody>\n",
       "</table>\n",
       "</div>"
      ],
      "text/plain": [
       "              test_rmse    fit_time   test_time\n",
       "algorithm                                      \n",
       "SVD            1.183367  174.656221   53.847728\n",
       "SlopeOne       1.203926   38.611949  934.643517\n",
       "CoClustering   1.219341  102.943714  413.169630\n",
       "NMF            2.227855  194.289427   93.691718"
      ]
     },
     "execution_count": 10,
     "metadata": {},
     "output_type": "execute_result"
    }
   ],
   "source": [
    "algorithms = {\"SVD\": SVD(), \"NMF\": NMF(), \"SlopeOne\": SlopeOne(), \"CoClustering\": CoClustering()}\n",
    "table = []\n",
    "for name, algo in algorithms.items():\n",
    "    out = cross_validate(algo, dataset, measures=[\"RMSE\"], cv=kf, verbose=False)\n",
    "    df = pd.DataFrame.from_dict(out).mean(axis=0)\n",
    "    df = df.append(pd.Series(name, index=[\"algorithm\"]))\n",
    "    table.append(df)\n",
    "\n",
    "result = pd.DataFrame(table).set_index(\"algorithm\").sort_values(\"test_rmse\")\n",
    "result"
   ]
  },
  {
   "cell_type": "code",
   "execution_count": null,
   "metadata": {},
   "outputs": [],
   "source": []
  }
 ],
 "metadata": {
  "kernelspec": {
   "display_name": "Python 3",
   "language": "python",
   "name": "python3"
  },
  "language_info": {
   "codemirror_mode": {
    "name": "ipython",
    "version": 3
   },
   "file_extension": ".py",
   "mimetype": "text/x-python",
   "name": "python",
   "nbconvert_exporter": "python",
   "pygments_lexer": "ipython3",
   "version": "3.6.8"
  }
 },
 "nbformat": 4,
 "nbformat_minor": 2
}
